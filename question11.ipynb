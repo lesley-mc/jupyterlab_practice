{
 "cells": [
  {
   "cell_type": "markdown",
   "id": "a776fb65-75b0-4729-9743-5199eed11166",
   "metadata": {},
   "source": [
    "# Lesley McDonell\n",
    "Notebook for assignment 7"
   ]
  },
  {
   "cell_type": "code",
   "execution_count": 1,
   "id": "778a7cf9-ef3c-470e-a928-5351635c4f59",
   "metadata": {},
   "outputs": [
    {
     "name": "stdout",
     "output_type": "stream",
     "text": [
      "5.0\n"
     ]
    }
   ],
   "source": [
    "def compute_mean(list):\n",
    "    mean_list = sum(list) / len(list)\n",
    "    print(mean_list)\n",
    "\n",
    "compute_mean([2, 4, 6, 8])"
   ]
  },
  {
   "cell_type": "markdown",
   "id": "d71ab823-da78-4f39-acba-1b0af6938d63",
   "metadata": {},
   "source": [
    "The code above creates a function called `compute_mean` that computes and prints the mean of a list.  The function is then called to compute a list which contains even integers from 2 to 8. The mathematical formula to solve for a mean is shown below.\n",
    "$$  \\bar{x} = \\frac{x_1 + x_2 + \\cdot \\cdot \\cdot + x_n}{n} = \\frac{1}{n}\\left(\\sum_{i=1}^{n} x_i\\right) $$\n"
   ]
  }
 ],
 "metadata": {
  "kernelspec": {
   "display_name": "Python [conda env:base] *",
   "language": "python",
   "name": "conda-base-py"
  },
  "language_info": {
   "codemirror_mode": {
    "name": "ipython",
    "version": 3
   },
   "file_extension": ".py",
   "mimetype": "text/x-python",
   "name": "python",
   "nbconvert_exporter": "python",
   "pygments_lexer": "ipython3",
   "version": "3.12.3"
  }
 },
 "nbformat": 4,
 "nbformat_minor": 5
}
